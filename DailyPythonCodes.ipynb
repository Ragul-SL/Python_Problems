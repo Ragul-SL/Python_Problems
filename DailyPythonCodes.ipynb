{
  "nbformat": 4,
  "nbformat_minor": 0,
  "metadata": {
    "colab": {
      "provenance": [],
      "authorship_tag": "ABX9TyMy/XKHBFnGLpCR93fkFuJt",
      "include_colab_link": true
    },
    "kernelspec": {
      "name": "python3",
      "display_name": "Python 3"
    },
    "language_info": {
      "name": "python"
    }
  },
  "cells": [
    {
      "cell_type": "markdown",
      "metadata": {
        "id": "view-in-github",
        "colab_type": "text"
      },
      "source": [
        "<a href=\"https://colab.research.google.com/github/Ragul-SL/Python_Problems/blob/main/DailyPythonCodes.ipynb\" target=\"_parent\"><img src=\"https://colab.research.google.com/assets/colab-badge.svg\" alt=\"Open In Colab\"/></a>"
      ]
    },
    {
      "cell_type": "markdown",
      "source": [
        "Daily Python codes"
      ],
      "metadata": {
        "id": "wrs3mmzNMwFa"
      }
    },
    {
      "cell_type": "markdown",
      "source": [
        "Day 2"
      ],
      "metadata": {
        "id": "OBtJ3ddhNYk6"
      }
    },
    {
      "cell_type": "code",
      "source": [],
      "metadata": {
        "id": "smfnYBF6Naol"
      },
      "execution_count": null,
      "outputs": []
    },
    {
      "cell_type": "markdown",
      "source": [
        "Day 1"
      ],
      "metadata": {
        "id": "n1Jj1Vh8NB8C"
      }
    },
    {
      "cell_type": "code",
      "source": [
        "x = { 7 > 5, 2 > 8, 0}\n",
        "print(all(x))"
      ],
      "metadata": {
        "colab": {
          "base_uri": "https://localhost:8080/"
        },
        "id": "pkPxdfhmM2g7",
        "outputId": "f6878168-33cf-4eae-bb2e-465dc8b4b0ec"
      },
      "execution_count": 1,
      "outputs": [
        {
          "output_type": "stream",
          "name": "stdout",
          "text": [
            "False\n"
          ]
        }
      ]
    }
  ]
}